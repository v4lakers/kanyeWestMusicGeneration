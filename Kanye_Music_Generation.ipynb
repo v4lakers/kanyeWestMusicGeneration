{
  "nbformat": 4,
  "nbformat_minor": 0,
  "metadata": {
    "kernelspec": {
      "display_name": "Python 3",
      "language": "python",
      "name": "python3"
    },
    "language_info": {
      "codemirror_mode": {
        "name": "ipython",
        "version": 3
      },
      "file_extension": ".py",
      "mimetype": "text/x-python",
      "name": "python",
      "nbconvert_exporter": "python",
      "pygments_lexer": "ipython3",
      "version": "3.8.3"
    },
    "varInspector": {
      "cols": {
        "lenName": 16,
        "lenType": 16,
        "lenVar": 40
      },
      "kernels_config": {
        "python": {
          "delete_cmd_postfix": "",
          "delete_cmd_prefix": "del ",
          "library": "var_list.py",
          "varRefreshCmd": "print(var_dic_list())"
        },
        "r": {
          "delete_cmd_postfix": ") ",
          "delete_cmd_prefix": "rm(",
          "library": "var_list.r",
          "varRefreshCmd": "cat(var_dic_list()) "
        }
      },
      "types_to_exclude": [
        "module",
        "function",
        "builtin_function_or_method",
        "instance",
        "_Feature"
      ],
      "window_display": false
    },
    "colab": {
      "name": "Kanye Music Generation.ipynb",
      "provenance": [],
      "collapsed_sections": []
    },
    "accelerator": "GPU"
  },
  "cells": [
    {
      "cell_type": "markdown",
      "metadata": {
        "id": "VsgRq-6wwPbA",
        "colab_type": "text"
      },
      "source": [
        "# Libraies"
      ]
    },
    {
      "cell_type": "code",
      "metadata": {
        "id": "svZWnIHwwNKo",
        "colab_type": "code",
        "colab": {}
      },
      "source": [
        "# Import Necessary Libaries\n",
        "%matplotlib inline\n",
        "import os\n",
        "import sys\n",
        "import random\n",
        "\n",
        "import torch\n",
        "import torch.nn as nn\n",
        "from torch.autograd import Variable\n",
        "import torch.utils.data as data\n",
        "from midi_utils import midiread, midiwrite\n",
        "from matplotlib import pyplot as plt\n",
        "import skimage.io as io\n",
        "from IPython.display import FileLink\n",
        "os.environ[\"CUDA_VISIBLE_DEVICES\"] = '0'"
      ],
      "execution_count": null,
      "outputs": []
    },
    {
      "cell_type": "markdown",
      "metadata": {
        "id": "yGNqzEZbwJyL",
        "colab_type": "text"
      },
      "source": [
        "# Pre-Defined Parameters"
      ]
    },
    {
      "cell_type": "code",
      "metadata": {
        "id": "uys_7Qbuvbqp",
        "colab_type": "code",
        "colab": {}
      },
      "source": [
        "# Customize Training Parameters Here\n",
        "CLIP = 3\n",
        "EPOCHS_NUMBER = 25\n",
        "HIDDEN_SIZE = 512\n",
        "RNN_TYPE = \"gru\"\n",
        "DROPOUT = \"normal\"\n",
        "DROPOUT_RATE = .5\n",
        "OPTIMIZER_TYPE = \"adam\"\n",
        "criterion = nn.CrossEntropyLoss().cuda()\n",
        "criterion_val = nn.CrossEntropyLoss().cuda()\n",
        "\n",
        "# Customize Outout MIDI File Here \n",
        "SAMPLE_LENGTH = 400\n",
        "TEMPERATURE = .8\n",
        "DT = .25"
      ],
      "execution_count": null,
      "outputs": []
    },
    {
      "cell_type": "markdown",
      "metadata": {
        "id": "Ss1aYU7G6mdm",
        "colab_type": "text"
      },
      "source": [
        "# DataLoader"
      ]
    },
    {
      "cell_type": "markdown",
      "metadata": {
        "id": "YZUDM_M80u5n",
        "colab_type": "text"
      },
      "source": [
        "This Section of code is responsible for converting the .midi files to a numeric representation."
      ]
    },
    {
      "cell_type": "code",
      "metadata": {
        "ExecuteTime": {
          "end_time": "2018-11-27T12:20:52.867674Z",
          "start_time": "2018-11-27T12:20:52.819795Z"
        },
        "id": "60SOACKA6mdo",
        "colab_type": "code",
        "colab": {}
      },
      "source": [
        "import numpy as np\n",
        "import torch\n",
        "import torch.utils.data as data\n",
        "\n",
        "\n",
        "def midi_filename_to_piano_roll(midi_filename):\n",
        "    \n",
        "    midi_data = midiread(midi_filename, dt=0.3)\n",
        "    \n",
        "    piano_roll = midi_data.piano_roll.transpose()\n",
        "    \n",
        "    # Pressed notes are replaced by 1\n",
        "    piano_roll[piano_roll > 0] = 1\n",
        "    \n",
        "    return piano_roll\n",
        "\n",
        "\n",
        "def pad_piano_roll(piano_roll, max_length=132333, pad_value=0):\n",
        "        \n",
        "    original_piano_roll_length = piano_roll.shape[1]\n",
        "    \n",
        "    padded_piano_roll = np.zeros((88, max_length))\n",
        "    padded_piano_roll[:] = pad_value\n",
        "    \n",
        "    padded_piano_roll[:, -original_piano_roll_length:] = piano_roll\n",
        "\n",
        "    return padded_piano_roll\n",
        "\n",
        "\n",
        "class NotesGenerationDataset(data.Dataset):\n",
        "    \n",
        "    def __init__(self, midi_folder_path, longest_sequence_length=1491):\n",
        "        \n",
        "        self.midi_folder_path = midi_folder_path\n",
        "        \n",
        "        midi_filenames = os.listdir(midi_folder_path)\n",
        "        \n",
        "        self.longest_sequence_length = longest_sequence_length\n",
        "        \n",
        "        midi_full_filenames = map(lambda filename: os.path.join(midi_folder_path, filename),midi_filenames)\n",
        "        \n",
        "        self.midi_full_filenames = list(midi_full_filenames)\n",
        "        \n",
        "        if longest_sequence_length is None:\n",
        "            \n",
        "            self.update_the_max_length()\n",
        "    \n",
        "    \n",
        "    def update_the_max_length(self):\n",
        "        \n",
        "        sequences_lengths = map(lambda filename: midi_filename_to_piano_roll(filename).shape[1],self.midi_full_filenames)\n",
        "        \n",
        "        max_length = max(sequences_lengths)\n",
        "        \n",
        "        self.longest_sequence_length = max_length\n",
        "                \n",
        "    \n",
        "    def __len__(self):\n",
        "        \n",
        "        return len(self.midi_full_filenames)\n",
        "    \n",
        "    def __getitem__(self, index):\n",
        "        \n",
        "        midi_full_filename = self.midi_full_filenames[index]\n",
        "        \n",
        "        piano_roll = midi_filename_to_piano_roll(midi_full_filename)\n",
        "        \n",
        "        # Shifting by one time step\n",
        "        sequence_length = piano_roll.shape[1] - 1\n",
        "        \n",
        "        # Shifting by one time step\n",
        "        input_sequence = piano_roll[:, :-1]\n",
        "        ground_truth_sequence = piano_roll[:, 1:]\n",
        "                \n",
        "        # padding sequence so that all of them have the same length\n",
        "        input_sequence_padded = pad_piano_roll(input_sequence, max_length=self.longest_sequence_length)\n",
        "        \n",
        "        ground_truth_sequence_padded = pad_piano_roll(ground_truth_sequence,max_length=self.longest_sequence_length,pad_value=-100)\n",
        "                \n",
        "        input_sequence_padded = input_sequence_padded.transpose()\n",
        "        ground_truth_sequence_padded = ground_truth_sequence_padded.transpose()\n",
        "        \n",
        "        return (torch.FloatTensor(input_sequence_padded),torch.LongTensor(ground_truth_sequence_padded),torch.LongTensor([sequence_length]) )\n",
        "\n",
        "    \n",
        "def post_process_sequence_batch(batch_tuple):\n",
        "    \n",
        "    input_sequences, output_sequences, lengths = batch_tuple\n",
        "    \n",
        "    splitted_input_sequence_batch = input_sequences.split(split_size=1)\n",
        "    splitted_output_sequence_batch = output_sequences.split(split_size=1)\n",
        "    splitted_lengths_batch = lengths.split(split_size=1)\n",
        "\n",
        "    training_data_tuples = zip(splitted_input_sequence_batch,\n",
        "                               splitted_output_sequence_batch,\n",
        "                               splitted_lengths_batch)\n",
        "\n",
        "    training_data_tuples_sorted = sorted(training_data_tuples,\n",
        "                                         key=lambda p: int(p[2]),\n",
        "                                         reverse=True)\n",
        "\n",
        "    splitted_input_sequence_batch, splitted_output_sequence_batch, splitted_lengths_batch = zip(*training_data_tuples_sorted)\n",
        "\n",
        "    input_sequence_batch_sorted = torch.cat(splitted_input_sequence_batch)\n",
        "    output_sequence_batch_sorted = torch.cat(splitted_output_sequence_batch)\n",
        "    lengths_batch_sorted = torch.cat(splitted_lengths_batch)\n",
        "    \n",
        "    input_sequence_batch_sorted = input_sequence_batch_sorted[:, -lengths_batch_sorted[0, 0]:, :]\n",
        "    output_sequence_batch_sorted = output_sequence_batch_sorted[:, -lengths_batch_sorted[0, 0]:, :]\n",
        "    \n",
        "    input_sequence_batch_transposed = input_sequence_batch_sorted.transpose(0, 1)\n",
        "    \n",
        "    lengths_batch_sorted_list = list(lengths_batch_sorted)\n",
        "    lengths_batch_sorted_list = map(lambda x: int(x), lengths_batch_sorted_list)\n",
        "    \n",
        "    return input_sequence_batch_transposed, output_sequence_batch_sorted, list(lengths_batch_sorted_list)"
      ],
      "execution_count": null,
      "outputs": []
    },
    {
      "cell_type": "code",
      "metadata": {
        "ExecuteTime": {
          "end_time": "2018-11-27T12:21:07.678124Z",
          "start_time": "2018-11-27T12:20:56.931002Z"
        },
        "id": "BrC-Dpg46mdv",
        "colab_type": "code",
        "colab": {
          "base_uri": "https://localhost:8080/",
          "height": 34
        },
        "outputId": "0de923dd-f4bc-4bdb-9728-e7eace2d1210"
      },
      "source": [
        "# Load Training Data\n",
        "trainset = NotesGenerationDataset('./Kanye/train/', longest_sequence_length=None)\n",
        "trainset_loader = data.DataLoader(trainset, batch_size=8,shuffle=True, drop_last=True)\n",
        "\n",
        "# Get Training Data Shape\n",
        "X = next(iter(trainset_loader))\n",
        "X[0].shape"
      ],
      "execution_count": null,
      "outputs": [
        {
          "output_type": "execute_result",
          "data": {
            "text/plain": [
              "torch.Size([8, 2643, 88])"
            ]
          },
          "metadata": {
            "tags": []
          },
          "execution_count": 4
        }
      ]
    },
    {
      "cell_type": "code",
      "metadata": {
        "ExecuteTime": {
          "end_time": "2018-11-27T12:21:11.258476Z",
          "start_time": "2018-11-27T12:21:08.259258Z"
        },
        "id": "fC3riROO6mer",
        "colab_type": "code",
        "colab": {
          "base_uri": "https://localhost:8080/",
          "height": 34
        },
        "outputId": "51b8c76d-2548-4c2e-81ea-713802945cea"
      },
      "source": [
        "# Get Validation Data Shape\n",
        "valset = NotesGenerationDataset('./Kanye/valid/', longest_sequence_length=None)\n",
        "valset_loader = data.DataLoader(valset, batch_size=8, shuffle=False, drop_last=False)\n",
        "\n",
        "# Get Validation Data Shape\n",
        "X_val = next(iter(valset_loader))\n",
        "X_val[0].shape"
      ],
      "execution_count": null,
      "outputs": [
        {
          "output_type": "execute_result",
          "data": {
            "text/plain": [
              "torch.Size([8, 2643, 88])"
            ]
          },
          "metadata": {
            "tags": []
          },
          "execution_count": 5
        }
      ]
    },
    {
      "cell_type": "markdown",
      "metadata": {
        "id": "xNsNSHAh6mgH",
        "colab_type": "text"
      },
      "source": [
        "# RNN"
      ]
    },
    {
      "cell_type": "code",
      "metadata": {
        "ExecuteTime": {
          "end_time": "2018-11-27T12:22:33.314323Z",
          "start_time": "2018-11-27T12:22:33.291386Z"
        },
        "id": "Ry9-FNgn6mgI",
        "colab_type": "code",
        "colab": {}
      },
      "source": [
        "class RNN(nn.Module):\n",
        "    \n",
        "    def __init__(self, input_size, hidden_size, num_classes, n_layers=2):\n",
        "        \n",
        "        super(RNN, self).__init__()\n",
        "        \n",
        "        self.input_size = input_size\n",
        "        self.hidden_size = hidden_size\n",
        "        self.num_classes = num_classes\n",
        "        self.n_layers = n_layers\n",
        "        \n",
        "\n",
        "        # Linear Layer\n",
        "        self.notes_encoder = nn.Linear(in_features=input_size, out_features=hidden_size)\n",
        "        \n",
        "        # Batch Normalization\n",
        "        self.bn = nn.BatchNorm1d(hidden_size)\n",
        "\n",
        "        # RNN (GRU or LSTM)\n",
        "        if RNN_TYPE == \"lstm\":\n",
        "          self.rnn = nn.LSTM(hidden_size, hidden_size, n_layers)\n",
        "        else:\n",
        "          self.rnn = nn.GRU(hidden_size, hidden_size, n_layers)\n",
        "\n",
        "        \n",
        "        # Linear Layer\n",
        "        self.logits_fc = nn.Linear(hidden_size, num_classes)\n",
        "\n",
        "        \n",
        "        # Dropout (Alpha or Regular)\n",
        "        if DROPOUT == \"alpha\":\n",
        "          self.dropout = nn.AlphaDropout(DROPOUT_RATE)\n",
        "        else:\n",
        "          self.dropout = nn.Dropout(DROPOUT_RATE)\n",
        "    \n",
        "    \n",
        "    def forward(self, input_sequences, input_sequences_lengths, hidden=None):\n",
        "        batch_size = input_sequences.shape[1]\n",
        "\n",
        "        notes_encoded = self.notes_encoder(input_sequences)\n",
        "        \n",
        "        \n",
        "        # Change Axis\n",
        "        notes_encoded_rolled = notes_encoded.permute(1,2,0).contiguous()\n",
        "        \n",
        "        # Batch Normalization\n",
        "        notes_encoded_norm = self.bn(notes_encoded_rolled)\n",
        "        \n",
        "        # Dropout\n",
        "        notes_encoded_norm_drop = self.dropout(notes_encoded_norm)\n",
        "        \n",
        "        # Return to axis\n",
        "        notes_encoded_complete = notes_encoded_norm_drop.permute(2,0,1)\n",
        "        \n",
        "        \n",
        "        \n",
        "        # Here we run rnns only on non-padded regions of the batch\n",
        "        packed = torch.nn.utils.rnn.pack_padded_sequence(notes_encoded_complete, input_sequences_lengths)\n",
        "        \n",
        "        # RNN\n",
        "        outputs, hidden = self.rnn(packed, hidden)\n",
        "        \n",
        "        # Here we unpack sequence(back to padded)\n",
        "        outputs, output_lengths = torch.nn.utils.rnn.pad_packed_sequence(outputs)\n",
        "        \n",
        "        # Batch Normalization\n",
        "        outputs_norm = self.bn(outputs.permute(1,2,0).contiguous())\n",
        "        \n",
        "        # Dropout\n",
        "        outputs_drop = self.dropout(outputs_norm)\n",
        "        \n",
        "        # Linear Layer\n",
        "        logits = self.logits_fc(outputs_drop.permute(2,0,1))\n",
        "        logits = logits.transpose(0, 1).contiguous()\n",
        "        \n",
        "        neg_logits = (1 - logits)\n",
        "        \n",
        "        # Since the BCE loss doesn't support masking,crossentropy is used\n",
        "        binary_logits = torch.stack((logits, neg_logits), dim=3).contiguous()\n",
        "        logits_flatten = binary_logits.view(-1, 2)\n",
        "        return logits_flatten, hidden"
      ],
      "execution_count": null,
      "outputs": []
    },
    {
      "cell_type": "markdown",
      "metadata": {
        "id": "-MA18J6H1tRv",
        "colab_type": "text"
      },
      "source": [
        "# Model Building"
      ]
    },
    {
      "cell_type": "code",
      "metadata": {
        "ExecuteTime": {
          "end_time": "2018-11-27T12:23:12.255258Z",
          "start_time": "2018-11-27T12:23:12.244288Z"
        },
        "id": "KXnEM95I6mge",
        "colab_type": "code",
        "colab": {}
      },
      "source": [
        "sample_history = []\n",
        "best_val_loss = float(\"inf\")"
      ],
      "execution_count": null,
      "outputs": []
    },
    {
      "cell_type": "code",
      "metadata": {
        "ExecuteTime": {
          "end_time": "2018-11-27T12:23:18.442825Z",
          "start_time": "2018-11-27T12:23:18.430860Z"
        },
        "id": "Si5CcmsJ6mgi",
        "colab_type": "code",
        "colab": {}
      },
      "source": [
        "def lrfinder(start, end, model, trainset_loader, epochs=EPOCHS_NUMBER):\n",
        "    model.train() \n",
        "    lrs = np.linspace(start, end, epochs*len(trainset_loader))\n",
        "    parameters = filter(lambda p: p.requires_grad, model.parameters()) \n",
        "    \n",
        "    # Pick the Optimzier the user defines\n",
        "    if OPTIMIZER_TYPE == \"sgd\":\n",
        "      optimizer = torch.optim.SGD(rnn.parameters(),start)\n",
        "    else:\n",
        "      optimizer = torch.optim.Adam(rnn.parameters(),start)\n",
        "\n",
        "    loss_list = []\n",
        "    ctr = 0\n",
        "    \n",
        "    # Loop through Epoch Values \n",
        "    for epoch_number in range(epochs):\n",
        "        epoch_loss = []\n",
        "        \n",
        "        # Go through the batches of the train set \n",
        "        for batch in trainset_loader:\n",
        "            \n",
        "            optimizer.param_groups[0]['lr'] = lrs[ctr]\n",
        "            ctr = ctr+1\n",
        "\n",
        "            post_processed_batch_tuple = post_process_sequence_batch(batch)\n",
        "\n",
        "            input_sequences_batch, output_sequences_batch, sequences_lengths = post_processed_batch_tuple\n",
        "\n",
        "            output_sequences_batch_var =  Variable( output_sequences_batch.contiguous().view(-1).cuda() )\n",
        "\n",
        "            input_sequences_batch_var = Variable( input_sequences_batch.cuda() )\n",
        "\n",
        "            optimizer.zero_grad()\n",
        "\n",
        "            logits, _ = model(input_sequences_batch_var, sequences_lengths)\n",
        "\n",
        "            # Get the Loss\n",
        "            loss = criterion(logits, output_sequences_batch_var)\n",
        "            loss_list.append(loss.item())\n",
        "            loss.backward()\n",
        "\n",
        "            # Clip the Gradients \n",
        "            torch.nn.utils.clip_grad_norm_(rnn.parameters(), CLIP)\n",
        "\n",
        "            optimizer.step()\n",
        "        print('Epoch %d' % epoch_number)\n",
        "    plt.plot(lrs, loss_list)\n",
        "    return lrs, loss_list"
      ],
      "execution_count": null,
      "outputs": []
    },
    {
      "cell_type": "code",
      "metadata": {
        "ExecuteTime": {
          "end_time": "2018-11-26T16:13:45.182544Z",
          "start_time": "2018-11-26T16:11:13.582351Z"
        },
        "id": "z7PqKD-l6mgm",
        "colab_type": "code",
        "colab": {
          "base_uri": "https://localhost:8080/",
          "height": 690
        },
        "outputId": "4cc8e02b-e0cc-465d-f810-038126c15700"
      },
      "source": [
        "rnn = RNN(input_size=88, hidden_size=HIDDEN_SIZE , num_classes=88)\n",
        "rnn = rnn.cuda()\n",
        "lrs, losses = lrfinder(1e-4, 1e-1*5, rnn, trainset_loader)"
      ],
      "execution_count": null,
      "outputs": [
        {
          "output_type": "stream",
          "text": [
            "Epoch 0\n",
            "Epoch 1\n",
            "Epoch 2\n",
            "Epoch 3\n",
            "Epoch 4\n",
            "Epoch 5\n",
            "Epoch 6\n",
            "Epoch 7\n",
            "Epoch 8\n",
            "Epoch 9\n",
            "Epoch 10\n",
            "Epoch 11\n",
            "Epoch 12\n",
            "Epoch 13\n",
            "Epoch 14\n",
            "Epoch 15\n",
            "Epoch 16\n",
            "Epoch 17\n",
            "Epoch 18\n",
            "Epoch 19\n",
            "Epoch 20\n",
            "Epoch 21\n",
            "Epoch 22\n",
            "Epoch 23\n",
            "Epoch 24\n"
          ],
          "name": "stdout"
        },
        {
          "output_type": "display_data",
          "data": {
            "image/png": "[encoded data removed]",
            "text/plain": [
              "<Figure size 432x288 with 1 Axes>"
            ]
          },
          "metadata": {
            "tags": [],
            "needs_background": "light"
          }
        }
      ]
    },
    {
      "cell_type": "code",
      "metadata": {
        "ExecuteTime": {
          "end_time": "2018-11-26T16:16:14.159868Z",
          "start_time": "2018-11-26T16:16:13.950619Z"
        },
        "id": "NWYVxyVA6mgr",
        "colab_type": "code",
        "colab": {
          "base_uri": "https://localhost:8080/",
          "height": 282
        },
        "outputId": "9535cb08-5d86-4eb7-db1a-61bd12afc19d"
      },
      "source": [
        "plt.plot(lrs[:15], losses[:15])"
      ],
      "execution_count": null,
      "outputs": [
        {
          "output_type": "execute_result",
          "data": {
            "text/plain": [
              "[<matplotlib.lines.Line2D at 0x7f1168bb1048>]"
            ]
          },
          "metadata": {
            "tags": []
          },
          "execution_count": 13
        },
        {
          "output_type": "display_data",
          "data": {
            "image/png": "[encoded data removed]",
            "text/plain": [
              "<Figure size 432x288 with 1 Axes>"
            ]
          },
          "metadata": {
            "tags": [],
            "needs_background": "light"
          }
        }
      ]
    },
    {
      "cell_type": "code",
      "metadata": {
        "ExecuteTime": {
          "end_time": "2018-11-26T16:16:15.631943Z",
          "start_time": "2018-11-26T16:16:15.434830Z"
        },
        "id": "SktfmEMn6mgy",
        "colab_type": "code",
        "colab": {
          "base_uri": "https://localhost:8080/",
          "height": 282
        },
        "outputId": "6d9a1063-2961-472f-c0e7-f17a020f6c30"
      },
      "source": [
        "def get_triangular_lr(lr_low, lr_high, mini_batches):\n",
        "    iterations = mini_batches\n",
        "    lr_mid = lr_high/7 + lr_low\n",
        "    up = np.linspace(lr_low, lr_high, int(round(iterations*0.35)))\n",
        "    down = np.linspace(lr_high, lr_mid, int(round(iterations*0.35)))\n",
        "    floor = np.linspace(lr_mid, lr_low, int(round(iterations*0.30)))\n",
        "    return np.hstack([up, down[1:], floor])\n",
        "\n",
        "lrs_triangular = get_triangular_lr(1e-2, 1e-2*3.5, len(trainset_loader))\n",
        "plt.plot(lrs_triangular)"
      ],
      "execution_count": null,
      "outputs": [
        {
          "output_type": "execute_result",
          "data": {
            "text/plain": [
              "[<matplotlib.lines.Line2D at 0x7f1105592ef0>]"
            ]
          },
          "metadata": {
            "tags": []
          },
          "execution_count": 14
        },
        {
          "output_type": "display_data",
          "data": {
            "image/png": "[encoded data removed]",
            "text/plain": [
              "<Figure size 432x288 with 1 Axes>"
            ]
          },
          "metadata": {
            "tags": [],
            "needs_background": "light"
          }
        }
      ]
    },
    {
      "cell_type": "code",
      "metadata": {
        "ExecuteTime": {
          "end_time": "2018-11-26T16:16:18.949227Z",
          "start_time": "2018-11-26T16:16:18.930281Z"
        },
        "id": "N-P0lhYV6mg6",
        "colab_type": "code",
        "colab": {}
      },
      "source": [
        "def train_model(model, lrs_triangular, epochs_number=EPOCHS_NUMBER, wd=0.0, best_val_loss=float(\"inf\")):\n",
        "    loss_list = []\n",
        "    val_list =[]\n",
        "    \n",
        "    \n",
        "    # Determine which Optimzier to use \n",
        "    if OPTIMIZER_TYPE == \"sgd\":\n",
        "      optimizer = torch.optim.SGD(rnn.parameters(), lr=lrs_triangular[0], weight_decay=wd)\n",
        "\n",
        "    else:\n",
        "      optimizer = torch.optim.Adam(rnn.parameters(), lr=lrs_triangular[0], weight_decay=wd)\n",
        "    \n",
        "\n",
        "    # Loop through different Epoch values    \n",
        "    for epoch_number in range(epochs_number):\n",
        "        \n",
        "        model.train()\n",
        "        epoch_loss = []\n",
        "        \n",
        "        # Loop through different Learning rates \n",
        "        for lr, batch in zip(lrs_triangular, trainset_loader):\n",
        "            \n",
        "\n",
        "            optimizer.param_groups[0]['lr'] = lr\n",
        "\n",
        "\n",
        "            post_processed_batch_tuple = post_process_sequence_batch(batch)\n",
        "\n",
        "            input_sequences_batch, output_sequences_batch, sequences_lengths = post_processed_batch_tuple\n",
        "\n",
        "            output_sequences_batch_var =  Variable( output_sequences_batch.contiguous().view(-1).cuda() )\n",
        "\n",
        "            input_sequences_batch_var = Variable( input_sequences_batch.cuda() )\n",
        "\n",
        "            optimizer.zero_grad()\n",
        "\n",
        "            logits, _ = model(input_sequences_batch_var, sequences_lengths)\n",
        "\n",
        "            # Get Loss\n",
        "            loss = criterion(logits, output_sequences_batch_var)\n",
        "            loss_list.append(loss.item())\n",
        "            epoch_loss.append(loss.item())\n",
        "            loss.backward()\n",
        "\n",
        "            # Clip Gradient\n",
        "            torch.nn.utils.clip_grad_norm_(model.parameters(), CLIP)\n",
        "\n",
        "            optimizer.step()\n",
        "\n",
        "        # Get Training Loss \n",
        "        current_trn_epoch = sum(epoch_loss)/len(trainset_loader)\n",
        "        print('Training Loss: Epoch:',epoch_number,':', current_trn_epoch)\n",
        "\n",
        "        # Get Validation Loss\n",
        "        current_val_loss = validate(model)\n",
        "        print('Validation Loss: Epoch:',epoch_number,':', current_val_loss)\n",
        "        print('')\n",
        "\n",
        "        val_list.append(current_val_loss)\n",
        "\n",
        "        # Save the best model (based on validation score)\n",
        "        if current_val_loss < best_val_loss:\n",
        "            \n",
        "            # Save the Model\n",
        "            torch.save(model.state_dict(), 'music_model_padfront_regularized.pth')\n",
        "            best_val_loss = current_val_loss\n",
        "    \n",
        "    return best_val_loss"
      ],
      "execution_count": null,
      "outputs": []
    },
    {
      "cell_type": "code",
      "metadata": {
        "ExecuteTime": {
          "end_time": "2018-11-26T16:19:05.465667Z",
          "start_time": "2018-11-26T16:16:20.312589Z"
        },
        "id": "6X4AMRyv6mg_",
        "colab_type": "code",
        "colab": {
          "base_uri": "https://localhost:8080/",
          "height": 1000
        },
        "outputId": "90b2758f-a167-44f2-bda3-d7b36707337a"
      },
      "source": [
        "rnn = RNN(input_size=88, hidden_size=HIDDEN_SIZE , num_classes=88)\n",
        "rnn = rnn.cuda()\n",
        "lrs_triangular = get_triangular_lr(1e-2, 1e-2*3.5, len(trainset_loader))\n",
        "best_val_loss = train_model(rnn, lrs_triangular)"
      ],
      "execution_count": null,
      "outputs": [
        {
          "output_type": "stream",
          "text": [
            "Training Loss: Epoch: 0 : 2.1623849074045816\n",
            "Validation Loss: Epoch: 0 : 1.6935843489414586e-06\n",
            "\n",
            "Training Loss: Epoch: 1 : 0.692634383837382\n",
            "Validation Loss: Epoch: 1 : 2.79784685033751e-06\n",
            "\n",
            "Training Loss: Epoch: 2 : 1.3085478643576305\n",
            "Validation Loss: Epoch: 2 : 2.3193705495276846e-06\n",
            "\n",
            "Training Loss: Epoch: 3 : 0.7028815845648447\n",
            "Validation Loss: Epoch: 3 : 3.1708594539043955e-06\n",
            "\n",
            "Training Loss: Epoch: 4 : 0.5774536728858948\n",
            "Validation Loss: Epoch: 4 : 2.3555643876359257e-06\n",
            "\n",
            "Training Loss: Epoch: 5 : 0.509856104850769\n",
            "Validation Loss: Epoch: 5 : 1.8961513165816414e-06\n",
            "\n",
            "Training Loss: Epoch: 6 : 0.45547057191530865\n",
            "Validation Loss: Epoch: 6 : 1.9067117187451002e-06\n",
            "\n",
            "Training Loss: Epoch: 7 : 0.39215265214443207\n",
            "Validation Loss: Epoch: 7 : 1.910924177647081e-06\n",
            "\n",
            "Training Loss: Epoch: 8 : 0.37676292657852173\n",
            "Validation Loss: Epoch: 8 : 1.6602968806260818e-06\n",
            "\n",
            "Training Loss: Epoch: 9 : 0.44468720257282257\n",
            "Validation Loss: Epoch: 9 : 1.8620381718601857e-06\n",
            "\n",
            "Training Loss: Epoch: 10 : 0.32908592373132706\n",
            "Validation Loss: Epoch: 10 : 1.2113645664864622e-06\n",
            "\n",
            "Training Loss: Epoch: 11 : 0.2963721702496211\n",
            "Validation Loss: Epoch: 11 : 1.2438553034005748e-06\n",
            "\n",
            "Training Loss: Epoch: 12 : 0.2791820913553238\n",
            "Validation Loss: Epoch: 12 : 1.3715364301742575e-06\n",
            "\n",
            "Training Loss: Epoch: 13 : 0.30978084603945416\n",
            "Validation Loss: Epoch: 13 : 1.2087608796293847e-06\n",
            "\n",
            "Training Loss: Epoch: 14 : 0.28855065753062564\n",
            "Validation Loss: Epoch: 14 : 1.0217409744575118e-06\n",
            "\n",
            "Training Loss: Epoch: 15 : 0.2818325261274974\n",
            "Validation Loss: Epoch: 15 : 1.4500875639844858e-06\n",
            "\n",
            "Training Loss: Epoch: 16 : 0.25057603418827057\n",
            "Validation Loss: Epoch: 16 : 1.3905235165927217e-06\n",
            "\n",
            "Training Loss: Epoch: 17 : 0.32099174459775287\n",
            "Validation Loss: Epoch: 17 : 1.2903529434154595e-06\n",
            "\n",
            "Training Loss: Epoch: 18 : 0.2839766244093577\n",
            "Validation Loss: Epoch: 18 : 1.3894182140855264e-06\n",
            "\n",
            "Training Loss: Epoch: 19 : 0.2756863385438919\n",
            "Validation Loss: Epoch: 19 : 1.2329877246977976e-06\n",
            "\n",
            "Training Loss: Epoch: 20 : 0.22923512756824493\n",
            "Validation Loss: Epoch: 20 : 1.0642823529524316e-06\n",
            "\n",
            "Training Loss: Epoch: 21 : 0.2611376519004504\n",
            "Validation Loss: Epoch: 21 : 1.0606201900359907e-06\n",
            "\n",
            "Training Loss: Epoch: 22 : 0.25619708746671677\n",
            "Validation Loss: Epoch: 22 : 1.0088884935990864e-06\n",
            "\n",
            "Training Loss: Epoch: 23 : 0.24922747910022736\n",
            "Validation Loss: Epoch: 23 : 1.0669096544708247e-06\n",
            "\n",
            "Training Loss: Epoch: 24 : 0.22940275073051453\n",
            "Validation Loss: Epoch: 24 : 9.81788283480986e-07\n",
            "\n"
          ],
          "name": "stdout"
        }
      ]
    },
    {
      "cell_type": "code",
      "metadata": {
        "ExecuteTime": {
          "end_time": "2018-11-26T16:21:52.147229Z",
          "start_time": "2018-11-26T16:19:05.617260Z"
        },
        "id": "kgFUqmU-6mhE",
        "colab_type": "code",
        "colab": {
          "base_uri": "https://localhost:8080/",
          "height": 1000
        },
        "outputId": "2c0c1d4c-508a-49e7-d425-e2d354f1a506"
      },
      "source": [
        "lrs_triangular = get_triangular_lr(1e-3, 1e-2, len(trainset_loader))\n",
        "best_val_loss = train_model(rnn, lrs_triangular, epochs_number=EPOCHS_NUMBER, wd=1e-4, best_val_loss=best_val_loss)"
      ],
      "execution_count": null,
      "outputs": [
        {
          "output_type": "stream",
          "text": [
            "Training Loss: Epoch: 0 : 0.2510971824328105\n",
            "Validation Loss: Epoch: 0 : 9.583611448892784e-07\n",
            "\n",
            "Training Loss: Epoch: 1 : 0.20511416345834732\n",
            "Validation Loss: Epoch: 1 : 9.84763203970478e-07\n",
            "\n",
            "Training Loss: Epoch: 2 : 0.2133757323026657\n",
            "Validation Loss: Epoch: 2 : 9.326515656074194e-07\n",
            "\n",
            "Training Loss: Epoch: 3 : 0.1952621415257454\n",
            "Validation Loss: Epoch: 3 : 8.20921832648746e-07\n",
            "\n",
            "Training Loss: Epoch: 4 : 0.195875716706117\n",
            "Validation Loss: Epoch: 4 : 7.705121388755323e-07\n",
            "\n",
            "Training Loss: Epoch: 5 : 0.19830949356158575\n",
            "Validation Loss: Epoch: 5 : 7.922164298733827e-07\n",
            "\n",
            "Training Loss: Epoch: 6 : 0.19068344682455063\n",
            "Validation Loss: Epoch: 6 : 7.418832978072297e-07\n",
            "\n",
            "Training Loss: Epoch: 7 : 0.19405128558476767\n",
            "Validation Loss: Epoch: 7 : 6.753705588474217e-07\n",
            "\n",
            "Training Loss: Epoch: 8 : 0.17352295915285745\n",
            "Validation Loss: Epoch: 8 : 6.794847782791002e-07\n",
            "\n",
            "Training Loss: Epoch: 9 : 0.18525265653928122\n",
            "Validation Loss: Epoch: 9 : 7.411943819003449e-07\n",
            "\n",
            "Training Loss: Epoch: 10 : 0.18211874862511954\n",
            "Validation Loss: Epoch: 10 : 6.698778258138517e-07\n",
            "\n",
            "Training Loss: Epoch: 11 : 0.1893813411394755\n",
            "Validation Loss: Epoch: 11 : 7.411946763088521e-07\n",
            "\n",
            "Training Loss: Epoch: 12 : 0.1835078994433085\n",
            "Validation Loss: Epoch: 12 : 6.966429060796328e-07\n",
            "\n",
            "Training Loss: Epoch: 13 : 0.15694727251927057\n",
            "Validation Loss: Epoch: 13 : 7.657490585891349e-07\n",
            "\n",
            "Training Loss: Epoch: 14 : 0.18123414864142737\n",
            "Validation Loss: Epoch: 14 : 6.507819941899327e-07\n",
            "\n",
            "Training Loss: Epoch: 15 : 0.15919547776381174\n",
            "Validation Loss: Epoch: 15 : 7.491305196015904e-07\n",
            "\n",
            "Training Loss: Epoch: 16 : 0.18658457199732462\n",
            "Validation Loss: Epoch: 16 : 6.466107369837773e-07\n",
            "\n",
            "Training Loss: Epoch: 17 : 0.17298708111047745\n",
            "Validation Loss: Epoch: 17 : 7.520870473069737e-07\n",
            "\n",
            "Training Loss: Epoch: 18 : 0.18098986397186914\n",
            "Validation Loss: Epoch: 18 : 6.748003515496832e-07\n",
            "\n",
            "Training Loss: Epoch: 19 : 0.1882365643978119\n",
            "Validation Loss: Epoch: 19 : 7.126963666755382e-07\n",
            "\n",
            "Training Loss: Epoch: 20 : 0.18441942830880484\n",
            "Validation Loss: Epoch: 20 : 6.758696277527062e-07\n",
            "\n",
            "Training Loss: Epoch: 21 : 0.17570466051499048\n",
            "Validation Loss: Epoch: 21 : 6.557833904153289e-07\n",
            "\n",
            "Training Loss: Epoch: 22 : 0.18832204739252725\n",
            "Validation Loss: Epoch: 22 : 8.162804670373053e-07\n",
            "\n",
            "Training Loss: Epoch: 23 : 0.18678162495295206\n",
            "Validation Loss: Epoch: 23 : 7.685738152447624e-07\n",
            "\n",
            "Training Loss: Epoch: 24 : 0.16692518442869186\n",
            "Validation Loss: Epoch: 24 : 8.463137761416883e-07\n",
            "\n"
          ],
          "name": "stdout"
        }
      ]
    },
    {
      "cell_type": "code",
      "metadata": {
        "ExecuteTime": {
          "end_time": "2018-11-26T16:24:39.239756Z",
          "start_time": "2018-11-26T16:21:52.289423Z"
        },
        "id": "kS6Q84g-6mhN",
        "colab_type": "code",
        "colab": {
          "base_uri": "https://localhost:8080/",
          "height": 1000
        },
        "outputId": "ded4c98e-933f-4536-a80c-c0ffc3ab3d72"
      },
      "source": [
        "lrs_triangular = get_triangular_lr(1e-4, 1e-2, len(trainset_loader))\n",
        "best_val_loss = train_model(rnn, lrs_triangular, epochs_number=EPOCHS_NUMBER, wd=1e-4*5, best_val_loss=best_val_loss)"
      ],
      "execution_count": null,
      "outputs": [
        {
          "output_type": "stream",
          "text": [
            "Training Loss: Epoch: 0 : 0.22093740850687027\n",
            "Validation Loss: Epoch: 0 : 8.013079350232348e-07\n",
            "\n",
            "Training Loss: Epoch: 1 : 0.19223379095395407\n",
            "Validation Loss: Epoch: 1 : 7.142752330141824e-07\n",
            "\n",
            "Training Loss: Epoch: 2 : 0.17157069345315298\n",
            "Validation Loss: Epoch: 2 : 7.579319394007276e-07\n",
            "\n",
            "Training Loss: Epoch: 3 : 0.2605939010779063\n",
            "Validation Loss: Epoch: 3 : 8.152973285654199e-07\n",
            "\n",
            "Training Loss: Epoch: 4 : 0.20618784427642822\n",
            "Validation Loss: Epoch: 4 : 7.668073487062834e-07\n",
            "\n",
            "Training Loss: Epoch: 5 : 0.1987799679239591\n",
            "Validation Loss: Epoch: 5 : 7.085536051138444e-07\n",
            "\n",
            "Training Loss: Epoch: 6 : 0.19319542249043783\n",
            "Validation Loss: Epoch: 6 : 8.071906508625736e-07\n",
            "\n",
            "Training Loss: Epoch: 7 : 0.18083423127730688\n",
            "Validation Loss: Epoch: 7 : 7.274981107650545e-07\n",
            "\n",
            "Training Loss: Epoch: 8 : 0.17143611361583075\n",
            "Validation Loss: Epoch: 8 : 7.065113862703965e-07\n",
            "\n",
            "Training Loss: Epoch: 9 : 0.18043066064516702\n",
            "Validation Loss: Epoch: 9 : 7.008199584848249e-07\n",
            "\n",
            "Training Loss: Epoch: 10 : 0.17562894771496454\n",
            "Validation Loss: Epoch: 10 : 6.964001120322874e-07\n",
            "\n",
            "Training Loss: Epoch: 11 : 0.17858080814282098\n",
            "Validation Loss: Epoch: 11 : 7.273386498204357e-07\n",
            "\n",
            "Training Loss: Epoch: 12 : 0.16758214682340622\n",
            "Validation Loss: Epoch: 12 : 6.494199674644452e-07\n",
            "\n",
            "Training Loss: Epoch: 13 : 0.17443117250998816\n",
            "Validation Loss: Epoch: 13 : 6.614128839480929e-07\n",
            "\n",
            "Training Loss: Epoch: 14 : 0.17225173115730286\n",
            "Validation Loss: Epoch: 14 : 6.981630456686797e-07\n",
            "\n",
            "Training Loss: Epoch: 15 : 0.17835267633199692\n",
            "Validation Loss: Epoch: 15 : 6.881604546552871e-07\n",
            "\n",
            "Training Loss: Epoch: 16 : 0.17271990577379862\n",
            "Validation Loss: Epoch: 16 : 7.164583340759254e-07\n",
            "\n",
            "Training Loss: Epoch: 17 : 0.16926891853411993\n",
            "Validation Loss: Epoch: 17 : 7.007286918475881e-07\n",
            "\n",
            "Training Loss: Epoch: 18 : 0.17136739691098532\n",
            "Validation Loss: Epoch: 18 : 6.66210162106881e-07\n",
            "\n",
            "Training Loss: Epoch: 19 : 0.16847530007362366\n",
            "Validation Loss: Epoch: 19 : 6.789430666258232e-07\n",
            "\n",
            "Training Loss: Epoch: 20 : 0.1553243100643158\n",
            "Validation Loss: Epoch: 20 : 6.752133911901223e-07\n",
            "\n",
            "Training Loss: Epoch: 21 : 0.17310034732023874\n",
            "Validation Loss: Epoch: 21 : 6.465617412101027e-07\n",
            "\n",
            "Training Loss: Epoch: 22 : 0.16896805663903555\n",
            "Validation Loss: Epoch: 22 : 7.098722143321098e-07\n",
            "\n",
            "Training Loss: Epoch: 23 : 0.17024939507246017\n",
            "Validation Loss: Epoch: 23 : 6.952975676679491e-07\n",
            "\n",
            "Training Loss: Epoch: 24 : 0.166020135084788\n",
            "Validation Loss: Epoch: 24 : 6.692595369583294e-07\n",
            "\n"
          ],
          "name": "stdout"
        }
      ]
    },
    {
      "cell_type": "code",
      "metadata": {
        "ExecuteTime": {
          "end_time": "2018-11-26T16:15:52.123518Z",
          "start_time": "2018-11-26T16:11:03.940Z"
        },
        "id": "rKGN82KA6mhT",
        "colab_type": "code",
        "colab": {}
      },
      "source": [
        "# Use the RNN that produced the best validaiton loss\n",
        "rnn.load_state_dict('music_model_padfront_regularized.pth')"
      ],
      "execution_count": null,
      "outputs": []
    },
    {
      "cell_type": "markdown",
      "metadata": {
        "id": "QEafC2686mhW",
        "colab_type": "text"
      },
      "source": [
        "# Music Generation"
      ]
    },
    {
      "cell_type": "code",
      "metadata": {
        "ExecuteTime": {
          "end_time": "2018-11-26T16:25:11.202962Z",
          "start_time": "2018-11-26T16:25:11.189993Z"
        },
        "id": "6Fjx2hfD6mhX",
        "colab_type": "code",
        "colab": {}
      },
      "source": [
        "def sample_from_piano_rnn(rnn, sample_length=4, temperature=1, starting_sequence=None):\n",
        "\n",
        "    # Arbitrary Starting Point\n",
        "    if starting_sequence is None:\n",
        "\n",
        "        # Initialize the current sequence         \n",
        "        current_sequence_input = torch.zeros(1, 1, 88)\n",
        "        current_sequence_input[0, 0, 40] = 1\n",
        "        current_sequence_input[0, 0, 50] = 0\n",
        "        current_sequence_input[0, 0, 56] = 0\n",
        "        current_sequence_input = Variable(current_sequence_input.cuda())\n",
        "    \n",
        "    # If we have a given starting point\n",
        "    else:\n",
        "        current_sequence_input = starting_sequence\n",
        "        \n",
        "    # Create the output sequence \n",
        "    final_output_sequence = [current_sequence_input.data.squeeze(1)]\n",
        "\n",
        "    hidden = None\n",
        "\n",
        "    # Sample For the desired length \n",
        "    for i in range(sample_length):\n",
        "\n",
        "        # Use the current sequence to generate a new sequence \n",
        "        output, hidden = rnn(current_sequence_input, [1], hidden)\n",
        "\n",
        "        # Get the probabilites of possible notes from the output and temperature\n",
        "        probabilities = nn.functional.softmax(output.div(temperature), dim=1)\n",
        "\n",
        "        # Sample from the multinomial distribution and set this new sequence to be current sequence \n",
        "        current_sequence_input = torch.multinomial(probabilities.data, 1).squeeze().unsqueeze(0).unsqueeze(1)\n",
        "\n",
        "        # Returns tensor \n",
        "        current_sequence_input = Variable(current_sequence_input.float())\n",
        "\n",
        "        # Append this current sequence to our entire output\n",
        "        final_output_sequence.append(current_sequence_input.data.squeeze(1))\n",
        "\n",
        "    \n",
        "    # Finalize the Output and return\n",
        "    sampled_sequence = torch.cat(final_output_sequence, dim=0).cpu().numpy()\n",
        "    \n",
        "    return sampled_sequence"
      ],
      "execution_count": null,
      "outputs": []
    },
    {
      "cell_type": "code",
      "metadata": {
        "ExecuteTime": {
          "end_time": "2018-11-26T16:25:16.419484Z",
          "start_time": "2018-11-26T16:25:14.709507Z"
        },
        "id": "5HZHTqF76mhd",
        "colab_type": "code",
        "colab": {}
      },
      "source": [
        "testset = NotesGenerationDataset('./Kanye/test/', longest_sequence_length=None)\n",
        "\n",
        "testset_loader = torch.utils.data.DataLoader(testset, batch_size=1,shuffle=True, drop_last=False)"
      ],
      "execution_count": null,
      "outputs": []
    },
    {
      "cell_type": "code",
      "metadata": {
        "ExecuteTime": {
          "end_time": "2018-11-26T16:25:18.156725Z",
          "start_time": "2018-11-26T16:25:17.906750Z"
        },
        "id": "9ZmQk3Cl6miH",
        "colab_type": "code",
        "colab": {
          "base_uri": "https://localhost:8080/",
          "height": 34
        },
        "outputId": "7405d074-9227-45a0-aafb-f86c5d590627"
      },
      "source": [
        "batch = next(iter(testset_loader))\n",
        "post_processed_batch_tuple = post_process_sequence_batch(batch)\n",
        "\n",
        "input_sequences_batch, output_sequences_batch, sequences_lengths = post_processed_batch_tuple\n",
        "\n",
        "output_sequences_batch_var =  output_sequences_batch.contiguous().view(-1).cuda()\n",
        "\n",
        "input_sequences_batch_var = input_sequences_batch.cuda()\n",
        "input_sequences_batch_var.shape"
      ],
      "execution_count": null,
      "outputs": [
        {
          "output_type": "execute_result",
          "data": {
            "text/plain": [
              "torch.Size([160, 1, 88])"
            ]
          },
          "metadata": {
            "tags": []
          },
          "execution_count": 22
        }
      ]
    },
    {
      "cell_type": "code",
      "metadata": {
        "ExecuteTime": {
          "end_time": "2018-11-26T16:25:36.632928Z",
          "start_time": "2018-11-26T16:25:34.966547Z"
        },
        "id": "xxu7fQDX6mi2",
        "colab_type": "code",
        "colab": {
          "base_uri": "https://localhost:8080/",
          "height": 135
        },
        "outputId": "b9221bf9-40d8-4457-9d37-820e4440de2b"
      },
      "source": [
        "sample = sample_from_piano_rnn(rnn, sample_length=SAMPLE_LENGTH, temperature=TEMPERATURE,starting_sequence=None).transpose()\n",
        "io.imshow(sample)\n",
        "midiwrite(RNN_TYPE+\" Clip:\"+str(CLIP)+\" Epochs:\"+str(EPOCHS_NUMBER)+\" Optimizer:\"+OPTIMIZER_TYPE+\" Hidden:\"+str(HIDDEN_SIZE)+\" Dropout:\"+str(DROPOUT)+\" Dropout Rate:\"+str(DROPOUT_RATE)+\" Length:\"+str(SAMPLE_LENGTH)+\" Temperature:\"+str(TEMPERATURE)+\" DT:\"+str(DT)+\".mid\", sample.transpose(), dt=DT)"
      ],
      "execution_count": null,
      "outputs": [
        {
          "output_type": "display_data",
          "data": {
            "image/png": "[encoded data removed]",
            "text/plain": [
              "<Figure size 432x288 with 1 Axes>"
            ]
          },
          "metadata": {
            "tags": [],
            "needs_background": "light"
          }
        }
      ]
    },
    {
      "cell_type": "code",
      "metadata": {
        "ExecuteTime": {
          "end_time": "2018-11-26T16:30:38.850609Z",
          "start_time": "2018-11-26T16:30:38.843627Z"
        },
        "id": "afBspcwc6mi7",
        "colab_type": "code",
        "colab": {
          "base_uri": "https://localhost:8080/",
          "height": 34
        },
        "outputId": "1675e4ff-51fe-4ec1-811a-4469c4f55d94"
      },
      "source": [
        "FileLink(RNN_TYPE+\" Clip:\"+str(CLIP)+\" Epochs:\"+str(EPOCHS_NUMBER)+\" Optimizer:\"+OPTIMIZER_TYPE+\" Hidden:\"+str(HIDDEN_SIZE)+\" Dropout:\"+str(DROPOUT)+\" Dropout Rate:\"+str(DROPOUT_RATE)+\" Length:\"+str(SAMPLE_LENGTH)+\" Temperature:\"+str(TEMPERATURE)+\" DT:\"+str(DT)+\".mid\")"
      ],
      "execution_count": null,
      "outputs": [
        {
          "output_type": "execute_result",
          "data": {
            "text/html": [
              "<a href='gru Clip:3 Epochs:25 Optimizer:adam Hidden:512 Dropout:normal Dropout Rate:0.5 Length:400 Temperature:0.8 DT:0.25.mid' target='_blank'>gru Clip:3 Epochs:25 Optimizer:adam Hidden:512 Dropout:normal Dropout Rate:0.5 Length:400 Temperature:0.8 DT:0.25.mid</a><br>"
            ],
            "text/plain": [
              "/content/gru Clip:3 Epochs:25 Optimizer:adam Hidden:512 Dropout:normal Dropout Rate:0.5 Length:400 Temperature:0.8 DT:0.25.mid"
            ]
          },
          "metadata": {
            "tags": []
          },
          "execution_count": 28
        }
      ]
    },
    {
      "cell_type": "markdown",
      "metadata": {
        "id": "AuW437dy6mi_",
        "colab_type": "text"
      },
      "source": [
        "## Note : Please convert the midi file to .mp3 or .wav format to listen\n",
        "## I would try to update the notebook providing that feature in the future"
      ]
    },
    {
      "cell_type": "code",
      "metadata": {
        "ExecuteTime": {
          "end_time": "2018-11-27T12:32:12.661084Z",
          "start_time": "2018-11-27T12:32:12.333381Z"
        },
        "id": "ygvJatai6mjC",
        "colab_type": "code",
        "colab": {}
      },
      "source": [
        "# Error\n",
        "#import IPython.display as ipd\n",
        "#ipd.Audio('./sample_reg_019.mp3')"
      ],
      "execution_count": null,
      "outputs": []
    },
    {
      "cell_type": "code",
      "metadata": {
        "id": "lKY-mwe6fVLl",
        "colab_type": "code",
        "colab": {}
      },
      "source": [
        ""
      ],
      "execution_count": null,
      "outputs": []
    }
  ]
}